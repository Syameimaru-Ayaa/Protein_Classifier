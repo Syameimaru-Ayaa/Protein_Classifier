{
  "cells": [
    {
      "cell_type": "markdown",
      "id": "05829cc9",
      "metadata": {
        "id": "05829cc9"
      },
      "source": [
        "The following additional libraries are needed to run this\n",
        "notebook. Note that running on Colab is experimental, please report a Github\n",
        "issue if you have any problem."
      ]
    },
    {
      "cell_type": "code",
      "execution_count": 1,
      "id": "892ce736",
      "metadata": {
        "id": "892ce736",
        "outputId": "69b6c912-f51e-4f1c-8c03-8b4d0c8446c1",
        "colab": {
          "base_uri": "https://localhost:8080/"
        }
      },
      "outputs": [
        {
          "output_type": "stream",
          "name": "stdout",
          "text": [
            "Collecting git+https://github.com/d2l-ai/d2l-zh@release\n",
            "  Cloning https://github.com/d2l-ai/d2l-zh (to revision release) to /tmp/pip-req-build-_st1jt0z\n",
            "  Running command git clone --filter=blob:none --quiet https://github.com/d2l-ai/d2l-zh /tmp/pip-req-build-_st1jt0z\n",
            "  Running command git checkout -b release --track origin/release\n",
            "  Switched to a new branch 'release'\n",
            "  Branch 'release' set up to track remote branch 'release' from 'origin'.\n",
            "  Resolved https://github.com/d2l-ai/d2l-zh to commit 843d3d41dca48d8df65f4b324dd171d8bfe9c067\n",
            "  Running command git submodule update --init --recursive -q\n",
            "  Preparing metadata (setup.py) ... \u001b[?25l\u001b[?25hdone\n",
            "Collecting jupyter==1.0.0 (from d2l==2.0.0)\n",
            "  Downloading jupyter-1.0.0-py2.py3-none-any.whl.metadata (995 bytes)\n",
            "INFO: pip is looking at multiple versions of d2l to determine which version is compatible with other requirements. This could take a while.\n",
            "\u001b[31mERROR: Ignored the following versions that require a different python version: 1.21.2 Requires-Python >=3.7,<3.11; 1.21.3 Requires-Python >=3.7,<3.11; 1.21.4 Requires-Python >=3.7,<3.11; 1.21.5 Requires-Python >=3.7,<3.11; 1.21.6 Requires-Python >=3.7,<3.11\u001b[0m\u001b[31m\n",
            "\u001b[0m\u001b[31mERROR: Could not find a version that satisfies the requirement numpy==1.21.5 (from d2l) (from versions: 1.3.0, 1.4.1, 1.5.0, 1.5.1, 1.6.0, 1.6.1, 1.6.2, 1.7.0, 1.7.1, 1.7.2, 1.8.0, 1.8.1, 1.8.2, 1.9.0, 1.9.1, 1.9.2, 1.9.3, 1.10.0.post2, 1.10.1, 1.10.2, 1.10.4, 1.11.0, 1.11.1, 1.11.2, 1.11.3, 1.12.0, 1.12.1, 1.13.0, 1.13.1, 1.13.3, 1.14.0, 1.14.1, 1.14.2, 1.14.3, 1.14.4, 1.14.5, 1.14.6, 1.15.0, 1.15.1, 1.15.2, 1.15.3, 1.15.4, 1.16.0, 1.16.1, 1.16.2, 1.16.3, 1.16.4, 1.16.5, 1.16.6, 1.17.0, 1.17.1, 1.17.2, 1.17.3, 1.17.4, 1.17.5, 1.18.0, 1.18.1, 1.18.2, 1.18.3, 1.18.4, 1.18.5, 1.19.0, 1.19.1, 1.19.2, 1.19.3, 1.19.4, 1.19.5, 1.20.0, 1.20.1, 1.20.2, 1.20.3, 1.21.0, 1.21.1, 1.22.0, 1.22.1, 1.22.2, 1.22.3, 1.22.4, 1.23.0, 1.23.1, 1.23.2, 1.23.3, 1.23.4, 1.23.5, 1.24.0, 1.24.1, 1.24.2, 1.24.3, 1.24.4, 1.25.0, 1.25.1, 1.25.2, 1.26.0, 1.26.1, 1.26.2, 1.26.3, 1.26.4, 2.0.0, 2.0.1, 2.0.2, 2.1.0, 2.1.1, 2.1.2, 2.1.3, 2.2.0, 2.2.1, 2.2.2, 2.2.3, 2.2.4, 2.2.5, 2.2.6, 2.3.0, 2.3.1, 2.3.2, 2.3.3)\u001b[0m\u001b[31m\n",
            "\u001b[0m\u001b[31mERROR: No matching distribution found for numpy==1.21.5\u001b[0m\u001b[31m\n",
            "\u001b[0m"
          ]
        }
      ],
      "source": [
        "!pip install git+https://github.com/d2l-ai/d2l-zh@release --no-deps  # installing d2l\n"
      ]
    },
    {
      "cell_type": "markdown",
      "id": "01f456ba",
      "metadata": {
        "origin_pos": 0,
        "id": "01f456ba"
      },
      "source": [
        "# 预训练word2vec\n",
        ":label:`sec_word2vec_pretraining`\n",
        "\n",
        "我们继续实现 :numref:`sec_word2vec`中定义的跳元语法模型。然后，我们将在PTB数据集上使用负采样预训练word2vec。首先，让我们通过调用`d2l.load_data_ptb`函数来获得该数据集的数据迭代器和词表，该函数在 :numref:`sec_word2vec_data`中进行了描述。\n"
      ]
    },
    {
      "cell_type": "code",
      "execution_count": 2,
      "id": "0aeafaa5",
      "metadata": {
        "execution": {
          "iopub.execute_input": "2023-08-18T07:16:10.079752Z",
          "iopub.status.busy": "2023-08-18T07:16:10.079196Z",
          "iopub.status.idle": "2023-08-18T07:16:27.336361Z",
          "shell.execute_reply": "2023-08-18T07:16:27.335336Z"
        },
        "origin_pos": 2,
        "tab": [
          "pytorch"
        ],
        "id": "0aeafaa5",
        "outputId": "60b471fb-ea91-4400-a6d8-7af1c04f4939",
        "colab": {
          "base_uri": "https://localhost:8080/",
          "height": 402
        }
      },
      "outputs": [
        {
          "output_type": "error",
          "ename": "ModuleNotFoundError",
          "evalue": "No module named 'd2l'",
          "traceback": [
            "\u001b[0;31m---------------------------------------------------------------------------\u001b[0m",
            "\u001b[0;31mModuleNotFoundError\u001b[0m                       Traceback (most recent call last)",
            "\u001b[0;32m/tmp/ipython-input-3325378605.py\u001b[0m in \u001b[0;36m<cell line: 0>\u001b[0;34m()\u001b[0m\n\u001b[1;32m      2\u001b[0m \u001b[0;32mimport\u001b[0m \u001b[0mtorch\u001b[0m\u001b[0;34m\u001b[0m\u001b[0;34m\u001b[0m\u001b[0m\n\u001b[1;32m      3\u001b[0m \u001b[0;32mfrom\u001b[0m \u001b[0mtorch\u001b[0m \u001b[0;32mimport\u001b[0m \u001b[0mnn\u001b[0m\u001b[0;34m\u001b[0m\u001b[0;34m\u001b[0m\u001b[0m\n\u001b[0;32m----> 4\u001b[0;31m \u001b[0;32mfrom\u001b[0m \u001b[0md2l\u001b[0m \u001b[0;32mimport\u001b[0m \u001b[0mtorch\u001b[0m \u001b[0;32mas\u001b[0m \u001b[0md2l\u001b[0m\u001b[0;34m\u001b[0m\u001b[0;34m\u001b[0m\u001b[0m\n\u001b[0m\u001b[1;32m      5\u001b[0m \u001b[0;34m\u001b[0m\u001b[0m\n\u001b[1;32m      6\u001b[0m \u001b[0mbatch_size\u001b[0m\u001b[0;34m,\u001b[0m \u001b[0mmax_window_size\u001b[0m\u001b[0;34m,\u001b[0m \u001b[0mnum_noise_words\u001b[0m \u001b[0;34m=\u001b[0m \u001b[0;36m512\u001b[0m\u001b[0;34m,\u001b[0m \u001b[0;36m5\u001b[0m\u001b[0;34m,\u001b[0m \u001b[0;36m5\u001b[0m\u001b[0;34m\u001b[0m\u001b[0;34m\u001b[0m\u001b[0m\n",
            "\u001b[0;31mModuleNotFoundError\u001b[0m: No module named 'd2l'",
            "",
            "\u001b[0;31m---------------------------------------------------------------------------\u001b[0;32m\nNOTE: If your import is failing due to a missing package, you can\nmanually install dependencies using either !pip or !apt.\n\nTo view examples of installing some common dependencies, click the\n\"Open Examples\" button below.\n\u001b[0;31m---------------------------------------------------------------------------\u001b[0m\n"
          ],
          "errorDetails": {
            "actions": [
              {
                "action": "open_url",
                "actionText": "Open Examples",
                "url": "/notebooks/snippets/importing_libraries.ipynb"
              }
            ]
          }
        }
      ],
      "source": [
        "import math\n",
        "import torch\n",
        "from torch import nn\n",
        "from d2l import torch as d2l\n",
        "\n",
        "batch_size, max_window_size, num_noise_words = 512, 5, 5\n",
        "data_iter, vocab = d2l.load_data_ptb(batch_size, max_window_size,\n",
        "                                     num_noise_words)"
      ]
    },
    {
      "cell_type": "markdown",
      "id": "d0cf231a",
      "metadata": {
        "origin_pos": 4,
        "id": "d0cf231a"
      },
      "source": [
        "## 跳元模型\n",
        "\n",
        "我们通过嵌入层和批量矩阵乘法实现了跳元模型。首先，让我们回顾一下嵌入层是如何工作的。\n",
        "\n",
        "### 嵌入层\n",
        "\n",
        "如 :numref:`sec_seq2seq`中所述，嵌入层将词元的索引映射到其特征向量。该层的权重是一个矩阵，其行数等于字典大小（`input_dim`），列数等于每个标记的向量维数（`output_dim`）。在词嵌入模型训练之后，这个权重就是我们所需要的。\n"
      ]
    },
    {
      "cell_type": "code",
      "execution_count": null,
      "id": "773b7192",
      "metadata": {
        "execution": {
          "iopub.execute_input": "2023-08-18T07:16:27.340860Z",
          "iopub.status.busy": "2023-08-18T07:16:27.340156Z",
          "iopub.status.idle": "2023-08-18T07:16:27.365326Z",
          "shell.execute_reply": "2023-08-18T07:16:27.364347Z"
        },
        "origin_pos": 6,
        "tab": [
          "pytorch"
        ],
        "id": "773b7192"
      },
      "outputs": [],
      "source": [
        "embed = nn.Embedding(num_embeddings=20, embedding_dim=4)\n",
        "print(f'Parameter embedding_weight ({embed.weight.shape}, '\n",
        "      f'dtype={embed.weight.dtype})')"
      ]
    },
    {
      "cell_type": "markdown",
      "id": "80720da7",
      "metadata": {
        "origin_pos": 8,
        "id": "80720da7"
      },
      "source": [
        "嵌入层的输入是词元（词）的索引。对于任何词元索引$i$，其向量表示可以从嵌入层中的权重矩阵的第$i$行获得。由于向量维度（`output_dim`）被设置为4，因此当小批量词元索引的形状为（2，3）时，嵌入层返回具有形状（2，3，4）的向量。\n"
      ]
    },
    {
      "cell_type": "code",
      "execution_count": null,
      "id": "1fa70f42",
      "metadata": {
        "execution": {
          "iopub.execute_input": "2023-08-18T07:16:27.368945Z",
          "iopub.status.busy": "2023-08-18T07:16:27.368367Z",
          "iopub.status.idle": "2023-08-18T07:16:27.377116Z",
          "shell.execute_reply": "2023-08-18T07:16:27.376157Z"
        },
        "origin_pos": 9,
        "tab": [
          "pytorch"
        ],
        "id": "1fa70f42"
      },
      "outputs": [],
      "source": [
        "x = torch.tensor([[1, 2, 3], [4, 5, 6]])\n",
        "embed(x)"
      ]
    },
    {
      "cell_type": "markdown",
      "id": "4b441409",
      "metadata": {
        "origin_pos": 10,
        "id": "4b441409"
      },
      "source": [
        "### 定义前向传播\n",
        "\n",
        "在前向传播中，跳元语法模型的输入包括形状为（批量大小，1）的中心词索引`center`和形状为（批量大小，`max_len`）的上下文与噪声词索引`contexts_and_negatives`，其中`max_len`在 :numref:`subsec_word2vec-minibatch-loading`中定义。这两个变量首先通过嵌入层从词元索引转换成向量，然后它们的批量矩阵相乘（在 :numref:`subsec_batch_dot`中描述）返回形状为（批量大小，1，`max_len`）的输出。输出中的每个元素是中心词向量和上下文或噪声词向量的点积。\n"
      ]
    },
    {
      "cell_type": "code",
      "execution_count": null,
      "id": "cd4cc024",
      "metadata": {
        "execution": {
          "iopub.execute_input": "2023-08-18T07:16:27.380875Z",
          "iopub.status.busy": "2023-08-18T07:16:27.380348Z",
          "iopub.status.idle": "2023-08-18T07:16:27.385076Z",
          "shell.execute_reply": "2023-08-18T07:16:27.384084Z"
        },
        "origin_pos": 12,
        "tab": [
          "pytorch"
        ],
        "id": "cd4cc024"
      },
      "outputs": [],
      "source": [
        "def skip_gram(center, contexts_and_negatives, embed_v, embed_u):\n",
        "    v = embed_v(center)\n",
        "    u = embed_u(contexts_and_negatives)\n",
        "    pred = torch.bmm(v, u.permute(0, 2, 1))\n",
        "    return pred"
      ]
    },
    {
      "cell_type": "markdown",
      "id": "2b5dc971",
      "metadata": {
        "origin_pos": 14,
        "id": "2b5dc971"
      },
      "source": [
        "让我们为一些样例输入打印此`skip_gram`函数的输出形状。\n"
      ]
    },
    {
      "cell_type": "code",
      "execution_count": null,
      "id": "1747bbfa",
      "metadata": {
        "execution": {
          "iopub.execute_input": "2023-08-18T07:16:27.388992Z",
          "iopub.status.busy": "2023-08-18T07:16:27.388308Z",
          "iopub.status.idle": "2023-08-18T07:16:27.396357Z",
          "shell.execute_reply": "2023-08-18T07:16:27.395365Z"
        },
        "origin_pos": 16,
        "tab": [
          "pytorch"
        ],
        "id": "1747bbfa"
      },
      "outputs": [],
      "source": [
        "skip_gram(torch.ones((2, 1), dtype=torch.long),\n",
        "          torch.ones((2, 4), dtype=torch.long), embed, embed).shape"
      ]
    },
    {
      "cell_type": "markdown",
      "id": "dde6d712",
      "metadata": {
        "origin_pos": 18,
        "id": "dde6d712"
      },
      "source": [
        "## 训练\n",
        "\n",
        "在训练带负采样的跳元模型之前，我们先定义它的损失函数。\n",
        "\n",
        "### 二元交叉熵损失\n",
        "\n",
        "根据 :numref:`subsec_negative-sampling`中负采样损失函数的定义，我们将使用二元交叉熵损失。\n"
      ]
    },
    {
      "cell_type": "code",
      "execution_count": null,
      "id": "5ec8d9c3",
      "metadata": {
        "execution": {
          "iopub.execute_input": "2023-08-18T07:16:27.400654Z",
          "iopub.status.busy": "2023-08-18T07:16:27.400159Z",
          "iopub.status.idle": "2023-08-18T07:16:27.405793Z",
          "shell.execute_reply": "2023-08-18T07:16:27.404774Z"
        },
        "origin_pos": 20,
        "tab": [
          "pytorch"
        ],
        "id": "5ec8d9c3"
      },
      "outputs": [],
      "source": [
        "class SigmoidBCELoss(nn.Module):\n",
        "    # 带掩码的二元交叉熵损失\n",
        "    def __init__(self):\n",
        "        super().__init__()\n",
        "\n",
        "    def forward(self, inputs, target, mask=None):\n",
        "        out = nn.functional.binary_cross_entropy_with_logits(\n",
        "            inputs, target, weight=mask, reduction=\"none\")\n",
        "        return out.mean(dim=1)\n",
        "\n",
        "loss = SigmoidBCELoss()"
      ]
    },
    {
      "cell_type": "markdown",
      "id": "9dd7eefc",
      "metadata": {
        "origin_pos": 22,
        "id": "9dd7eefc"
      },
      "source": [
        "回想一下我们在 :numref:`subsec_word2vec-minibatch-loading`中对掩码变量和标签变量的描述。下面计算给定变量的二进制交叉熵损失。\n"
      ]
    },
    {
      "cell_type": "code",
      "execution_count": null,
      "id": "0e0fcee0",
      "metadata": {
        "execution": {
          "iopub.execute_input": "2023-08-18T07:16:27.410664Z",
          "iopub.status.busy": "2023-08-18T07:16:27.409825Z",
          "iopub.status.idle": "2023-08-18T07:16:27.423445Z",
          "shell.execute_reply": "2023-08-18T07:16:27.422478Z"
        },
        "origin_pos": 23,
        "tab": [
          "pytorch"
        ],
        "id": "0e0fcee0"
      },
      "outputs": [],
      "source": [
        "pred = torch.tensor([[1.1, -2.2, 3.3, -4.4]] * 2)\n",
        "label = torch.tensor([[1.0, 0.0, 0.0, 0.0], [0.0, 1.0, 0.0, 0.0]])\n",
        "mask = torch.tensor([[1, 1, 1, 1], [1, 1, 0, 0]])\n",
        "loss(pred, label, mask) * mask.shape[1] / mask.sum(axis=1)"
      ]
    },
    {
      "cell_type": "markdown",
      "id": "4bcfe374",
      "metadata": {
        "origin_pos": 25,
        "id": "4bcfe374"
      },
      "source": [
        "下面显示了如何使用二元交叉熵损失中的Sigmoid激活函数（以较低效率的方式）计算上述结果。我们可以将这两个输出视为两个规范化的损失，在非掩码预测上进行平均。\n"
      ]
    },
    {
      "cell_type": "code",
      "execution_count": null,
      "id": "b79ec9c9",
      "metadata": {
        "execution": {
          "iopub.execute_input": "2023-08-18T07:16:27.427864Z",
          "iopub.status.busy": "2023-08-18T07:16:27.427357Z",
          "iopub.status.idle": "2023-08-18T07:16:27.432489Z",
          "shell.execute_reply": "2023-08-18T07:16:27.431711Z"
        },
        "origin_pos": 26,
        "tab": [
          "pytorch"
        ],
        "id": "b79ec9c9"
      },
      "outputs": [],
      "source": [
        "def sigmd(x):\n",
        "    return -math.log(1 / (1 + math.exp(-x)))\n",
        "\n",
        "print(f'{(sigmd(1.1) + sigmd(2.2) + sigmd(-3.3) + sigmd(4.4)) / 4:.4f}')\n",
        "print(f'{(sigmd(-1.1) + sigmd(-2.2)) / 2:.4f}')"
      ]
    },
    {
      "cell_type": "markdown",
      "id": "0cab2e83",
      "metadata": {
        "origin_pos": 27,
        "id": "0cab2e83"
      },
      "source": [
        "### 初始化模型参数\n",
        "\n",
        "我们定义了两个嵌入层，将词表中的所有单词分别作为中心词和上下文词使用。字向量维度`embed_size`被设置为100。\n"
      ]
    },
    {
      "cell_type": "code",
      "execution_count": null,
      "id": "8a373a4d",
      "metadata": {
        "execution": {
          "iopub.execute_input": "2023-08-18T07:16:27.436933Z",
          "iopub.status.busy": "2023-08-18T07:16:27.436455Z",
          "iopub.status.idle": "2023-08-18T07:16:27.461291Z",
          "shell.execute_reply": "2023-08-18T07:16:27.460112Z"
        },
        "origin_pos": 29,
        "tab": [
          "pytorch"
        ],
        "id": "8a373a4d"
      },
      "outputs": [],
      "source": [
        "embed_size = 100\n",
        "net = nn.Sequential(nn.Embedding(num_embeddings=len(vocab),\n",
        "                                 embedding_dim=embed_size),\n",
        "                    nn.Embedding(num_embeddings=len(vocab),\n",
        "                                 embedding_dim=embed_size))"
      ]
    },
    {
      "cell_type": "markdown",
      "id": "7d9e7090",
      "metadata": {
        "origin_pos": 30,
        "id": "7d9e7090"
      },
      "source": [
        "### 定义训练阶段代码\n",
        "\n",
        "训练阶段代码实现定义如下。由于填充的存在，损失函数的计算与以前的训练函数略有不同。\n"
      ]
    },
    {
      "cell_type": "code",
      "execution_count": null,
      "id": "763d58ba",
      "metadata": {
        "execution": {
          "iopub.execute_input": "2023-08-18T07:16:27.466398Z",
          "iopub.status.busy": "2023-08-18T07:16:27.466107Z",
          "iopub.status.idle": "2023-08-18T07:16:27.478915Z",
          "shell.execute_reply": "2023-08-18T07:16:27.477777Z"
        },
        "origin_pos": 32,
        "tab": [
          "pytorch"
        ],
        "id": "763d58ba"
      },
      "outputs": [],
      "source": [
        "def train(net, data_iter, lr, num_epochs, device=d2l.try_gpu()):\n",
        "    def init_weights(m):\n",
        "        if type(m) == nn.Embedding:\n",
        "            nn.init.xavier_uniform_(m.weight)\n",
        "    net.apply(init_weights)\n",
        "    net = net.to(device)\n",
        "    optimizer = torch.optim.Adam(net.parameters(), lr=lr)\n",
        "    animator = d2l.Animator(xlabel='epoch', ylabel='loss',\n",
        "                            xlim=[1, num_epochs])\n",
        "    # 规范化的损失之和，规范化的损失数\n",
        "    metric = d2l.Accumulator(2)\n",
        "    for epoch in range(num_epochs):\n",
        "        timer, num_batches = d2l.Timer(), len(data_iter)\n",
        "        for i, batch in enumerate(data_iter):\n",
        "            optimizer.zero_grad()\n",
        "            center, context_negative, mask, label = [\n",
        "                data.to(device) for data in batch]\n",
        "\n",
        "            pred = skip_gram(center, context_negative, net[0], net[1])\n",
        "            l = (loss(pred.reshape(label.shape).float(), label.float(), mask)\n",
        "                     / mask.sum(axis=1) * mask.shape[1])\n",
        "            l.sum().backward()\n",
        "            optimizer.step()\n",
        "            metric.add(l.sum(), l.numel())\n",
        "            if (i + 1) % (num_batches // 5) == 0 or i == num_batches - 1:\n",
        "                animator.add(epoch + (i + 1) / num_batches,\n",
        "                             (metric[0] / metric[1],))\n",
        "    print(f'loss {metric[0] / metric[1]:.3f}, '\n",
        "          f'{metric[1] / timer.stop():.1f} tokens/sec on {str(device)}')"
      ]
    },
    {
      "cell_type": "markdown",
      "id": "ee280a14",
      "metadata": {
        "origin_pos": 34,
        "id": "ee280a14"
      },
      "source": [
        "现在，我们可以使用负采样来训练跳元模型。\n"
      ]
    },
    {
      "cell_type": "code",
      "execution_count": null,
      "id": "c10e8868",
      "metadata": {
        "execution": {
          "iopub.execute_input": "2023-08-18T07:16:27.484286Z",
          "iopub.status.busy": "2023-08-18T07:16:27.483558Z",
          "iopub.status.idle": "2023-08-18T07:16:54.164551Z",
          "shell.execute_reply": "2023-08-18T07:16:54.163546Z"
        },
        "origin_pos": 35,
        "tab": [
          "pytorch"
        ],
        "id": "c10e8868"
      },
      "outputs": [],
      "source": [
        "lr, num_epochs = 0.002, 5\n",
        "train(net, data_iter, lr, num_epochs)"
      ]
    },
    {
      "cell_type": "markdown",
      "id": "9be0d868",
      "metadata": {
        "origin_pos": 36,
        "id": "9be0d868"
      },
      "source": [
        "## 应用词嵌入\n",
        ":label:`subsec_apply-word-embed`\n",
        "\n",
        "在训练word2vec模型之后，我们可以使用训练好模型中词向量的余弦相似度来从词表中找到与输入单词语义最相似的单词。\n"
      ]
    },
    {
      "cell_type": "code",
      "execution_count": null,
      "id": "7cb4d2b0",
      "metadata": {
        "execution": {
          "iopub.execute_input": "2023-08-18T07:16:54.168436Z",
          "iopub.status.busy": "2023-08-18T07:16:54.168121Z",
          "iopub.status.idle": "2023-08-18T07:16:54.176483Z",
          "shell.execute_reply": "2023-08-18T07:16:54.175544Z"
        },
        "origin_pos": 38,
        "tab": [
          "pytorch"
        ],
        "id": "7cb4d2b0"
      },
      "outputs": [],
      "source": [
        "def get_similar_tokens(query_token, k, embed):\n",
        "    W = embed.weight.data\n",
        "    x = W[vocab[query_token]]\n",
        "    # 计算余弦相似性。增加1e-9以获得数值稳定性\n",
        "    cos = torch.mv(W, x) / torch.sqrt(torch.sum(W * W, dim=1) *\n",
        "                                      torch.sum(x * x) + 1e-9)\n",
        "    topk = torch.topk(cos, k=k+1)[1].cpu().numpy().astype('int32')\n",
        "    for i in topk[1:]:  # 删除输入词\n",
        "        print(f'cosine sim={float(cos[i]):.3f}: {vocab.to_tokens(i)}')\n",
        "\n",
        "get_similar_tokens('chip', 3, net[0])"
      ]
    },
    {
      "cell_type": "markdown",
      "id": "1b343f9c",
      "metadata": {
        "origin_pos": 40,
        "id": "1b343f9c"
      },
      "source": [
        "## 小结\n",
        "\n",
        "* 我们可以使用嵌入层和二元交叉熵损失来训练带负采样的跳元模型。\n",
        "* 词嵌入的应用包括基于词向量的余弦相似度为给定词找到语义相似的词。\n",
        "\n",
        "## 练习\n",
        "\n",
        "1. 使用训练好的模型，找出其他输入词在语义上相似的词。您能通过调优超参数来改进结果吗？\n",
        "1. 当训练语料库很大时，在更新模型参数时，我们经常对当前小批量的*中心词*进行上下文词和噪声词的采样。换言之，同一中心词在不同的训练迭代轮数可以有不同的上下文词或噪声词。这种方法的好处是什么？尝试实现这种训练方法。\n"
      ]
    },
    {
      "cell_type": "markdown",
      "id": "99139c06",
      "metadata": {
        "origin_pos": 42,
        "tab": [
          "pytorch"
        ],
        "id": "99139c06"
      },
      "source": [
        "[Discussions](https://discuss.d2l.ai/t/5740)\n"
      ]
    }
  ],
  "metadata": {
    "accelerator": "GPU",
    "kernelspec": {
      "display_name": "Python 3",
      "name": "python3"
    },
    "language_info": {
      "name": "python"
    },
    "required_libs": [],
    "colab": {
      "provenance": []
    }
  },
  "nbformat": 4,
  "nbformat_minor": 5
}